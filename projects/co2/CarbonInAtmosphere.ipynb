{
 "cells": [
  {
   "cell_type": "code",
   "execution_count": 40,
   "metadata": {},
   "outputs": [
    {
     "data": {
      "text/html": [
       "<script>\n",
       "code_show=true; \n",
       "function code_toggle() {\n",
       " if (code_show){\n",
       " $('div.input').hide();\n",
       " } else {\n",
       " $('div.input').show();\n",
       " }\n",
       " code_show = !code_show\n",
       "} \n",
       "$( document ).ready(code_toggle);\n",
       "</script>\n",
       "<style>\n",
       ".output_subarea pre {\n",
       "    background-color: red;\n",
       "    word-break: normal !important;\n",
       "    word-wrap: normal !important;\n",
       "    text-align: left;\n",
       "    white-space: break-spaces;\n",
       "}\n",
       "</style>\n",
       "<form action=\"javascript:code_toggle()\"><input type=\"submit\" value=\"Click here to toggle on/off the raw code.\"></form>"
      ],
      "text/plain": [
       "<IPython.core.display.HTML object>"
      ]
     },
     "execution_count": 40,
     "metadata": {},
     "output_type": "execute_result"
    }
   ],
   "source": [
    "from IPython.display import HTML\n",
    "\n",
    "def ro(s, d=2):\n",
    "    return str(round(s, d))\n",
    "\n",
    "HTML('''<script>\n",
    "code_show=true; \n",
    "function code_toggle() {\n",
    " if (code_show){\n",
    " $('div.input').hide();\n",
    " } else {\n",
    " $('div.input').show();\n",
    " }\n",
    " code_show = !code_show\n",
    "} \n",
    "$( document ).ready(code_toggle);\n",
    "</script>\n",
    "<style>\n",
    ".output_subarea pre {\n",
    "    background-color: red;\n",
    "    word-break: normal !important;\n",
    "    word-wrap: normal !important;\n",
    "    text-align: left;\n",
    "    white-space: break-spaces;\n",
    "}\n",
    "</style>\n",
    "<form action=\"javascript:code_toggle()\"><input type=\"submit\" value=\"Click here to toggle on/off the raw code.\"></form>''')\n",
    "\n"
   ]
  },
  {
   "cell_type": "markdown",
   "metadata": {},
   "source": [
    "# Carbon Dioxide Deposit Size \n",
    "\n",
    "\n",
    "## Introduction\n",
    "\n",
    "__Mol__ \n",
    "is defined as the amount of a chemical substance that contains as many representative particles (atoms, molecules, ions, electrons, or photons) as there are atoms in 12 grams of carbon-12.\n",
    "\n",
    "1 mole has `12.011 g C`, and 1 gram of Carbon has 0.083257 mole.\n",
    "1 mole C/liter = 12.011 × 10-3 Gt C/km3\n",
    "\n",
    "__Mass of the Earth's atmosphere__\n",
    "is ([Mass of the Earth Estimates](https://arxiv.org/ftp/arxiv/papers/1810/1810.08658.pdf)):\n",
    "\n",
    "**5.137 × 10<sup>15</sup> tonnes** = 5.137 × 10<sup>18</sup>kg  \n",
    "Bottom estimate: 5.137972E+18kg  \n",
    "Upper  estimate: 5.150502E+18kg\n",
    "  \n",
    "\n",
    "\n",
    "\n",
    "__Carbon atomic weight__ ([Carbon](https://en.wikipedia.org/wiki/Carbon) / \n",
    "[Isotopes of carbon](https://en.wikipedia.org/wiki/Isotopes_of_carbon))  \n",
    "\n",
    "Standard atomic weight Ar, std(C)\t[12.0096, 12.0116] conventional: `12.011`\n",
    "- Using the abundance of Carbon isotopes, we calculate the average atomic weight of Carbon.\n",
    "\n",
    "| name | fraction | weight | % | AVG |\n",
    "| ---- |-------|--------------|------:|-------------:|\n",
    "|  12C | 0.989 | 12.00000000  | 98.9% | 1186.80000000 |\n",
    "|  13C | 0.011 | 13.00335484  | 1.1%  |   14.30369032 |\n",
    "|    - |     - | Total:       | 100%  |   12.01103690 |\n",
    "\n",
    "\n",
    "\n",
    "__Oxygen atomic weight__ (\n",
    "[Oxygen](https://en.wikipedia.org/wiki/Oxygen) / \n",
    "[Isotopes_of_oxygen](https://en.wikipedia.org/wiki/Isotopes_of_oxygen))  \n",
    "\n",
    "Standard atomic weight Ar, std(O)\t[15.99903, 15.99977] conventional: `15.999`\n",
    "\n",
    "- Using the abundance of Oxigen isotopes, we calculate the average atomic weight of Oxigen.\n",
    "\n",
    "| name | fraction | weight | % | AVG |\n",
    "| ---- | -------- | ------------ | -----:|-------------:|\n",
    "| 16O  | 0.9976 | 15.99491462 |\t99.76% |\t1595.652682000 |\n",
    "| 17O  | 0.0004\t| 16.99913176 |\t 0.04% |\t   0.679965270 |\n",
    "| 18O  | 0.0020\t| 17.99915961 |   0.2% |   3.599831923 |\n",
    "|    - |      - | Total:       | 100%   |   15.999324800 |\n"
   ]
  },
  {
   "cell_type": "code",
   "execution_count": 41,
   "metadata": {},
   "outputs": [
    {
     "name": "stdout",
     "output_type": "stream",
     "text": [
      "1 mole of CO₂ therefore has a molecular mass of 44.0087.\n",
      "(C) Carbon content in (CO₂) Carbon-Dioxide is 27.29%.\n"
     ]
    }
   ],
   "source": [
    "class bcolors:\n",
    "    HEADER = '\\033[95m'\n",
    "    OKBLUE = '\\033[94m'\n",
    "    OKGREEN = '\\033[92m'\n",
    "    WARNING = '\\033[93m'\n",
    "    FAIL = '\\033[91m'\n",
    "    ENDC = '\\033[0m'\n",
    "    BOLD = '\\033[1m'\n",
    "    UNDERLINE = '\\033[4m'\n",
    "\n",
    "mAtm_ton=5.137 * 10**15\n",
    "Cm=12.0107\n",
    "Om=15.999\n",
    "co2m=Cm+(Om*2)\n",
    "C_in_co2_pc=round((Cm/co2m)*100,4)\n",
    "print (\"1 mole of CO₂ therefore has a molecular mass of \" + ro(co2m,4) + \".\" )\n",
    "print (\"(C) Carbon content in (CO₂) Carbon-Dioxide is \" + ro(C_in_co2_pc) + \"%.\")"
   ]
  },
  {
   "cell_type": "markdown",
   "metadata": {},
   "source": [
    "## Current CO₂ in atmosphere by NASA/NOAA  \n",
    "([CO2 mesurement NASA](https://climate.nasa.gov/vital-signs/carbon-dioxide/), \n",
    "[CO2 mesurement NOAA - file](ftp://aftp.cmdl.noaa.gov/products/trends/co2/co2_mm_mlo.txt))  "
   ]
  },
  {
   "cell_type": "code",
   "execution_count": 42,
   "metadata": {},
   "outputs": [
    {
     "data": {
      "text/html": [
       "<div>\n",
       "<style scoped>\n",
       "    .dataframe tbody tr th:only-of-type {\n",
       "        vertical-align: middle;\n",
       "    }\n",
       "\n",
       "    .dataframe tbody tr th {\n",
       "        vertical-align: top;\n",
       "    }\n",
       "\n",
       "    .dataframe thead th {\n",
       "        text-align: right;\n",
       "    }\n",
       "</style>\n",
       "<table border=\"1\" class=\"dataframe\">\n",
       "  <thead>\n",
       "    <tr style=\"text-align: right;\">\n",
       "      <th></th>\n",
       "      <th>Year</th>\n",
       "      <th>Month</th>\n",
       "      <th>CO2ppmv</th>\n",
       "      <th>ppmv inc.</th>\n",
       "    </tr>\n",
       "  </thead>\n",
       "  <tbody>\n",
       "    <tr>\n",
       "      <th>0</th>\n",
       "      <td>2015</td>\n",
       "      <td>5</td>\n",
       "      <td>403.96</td>\n",
       "      <td>-</td>\n",
       "    </tr>\n",
       "    <tr>\n",
       "      <th>1</th>\n",
       "      <td>2016</td>\n",
       "      <td>5</td>\n",
       "      <td>407.72</td>\n",
       "      <td>3.76</td>\n",
       "    </tr>\n",
       "    <tr>\n",
       "      <th>2</th>\n",
       "      <td>2017</td>\n",
       "      <td>5</td>\n",
       "      <td>409.69</td>\n",
       "      <td>1.97</td>\n",
       "    </tr>\n",
       "    <tr>\n",
       "      <th>3</th>\n",
       "      <td>2018</td>\n",
       "      <td>5</td>\n",
       "      <td>411.24</td>\n",
       "      <td>1.55</td>\n",
       "    </tr>\n",
       "    <tr>\n",
       "      <th>4</th>\n",
       "      <td>2019</td>\n",
       "      <td>5</td>\n",
       "      <td>414.66</td>\n",
       "      <td>3.42</td>\n",
       "    </tr>\n",
       "  </tbody>\n",
       "</table>\n",
       "</div>"
      ],
      "text/plain": [
       "   Year  Month  CO2ppmv ppmv inc.\n",
       "0  2015      5   403.96         -\n",
       "1  2016      5   407.72      3.76\n",
       "2  2017      5   409.69      1.97\n",
       "3  2018      5   411.24      1.55\n",
       "4  2019      5   414.66      3.42"
      ]
     },
     "execution_count": 42,
     "metadata": {},
     "output_type": "execute_result"
    }
   ],
   "source": [
    "import numpy as np\n",
    "import pandas as pd\n",
    "\n",
    "data = [\n",
    "    [2015, 5, 403.96, \"-\"],\n",
    "    [2016, 5, 407.72, 3.76],\n",
    "    [2017, 5, 409.69, 1.97],\n",
    "    [2018, 5, 411.24, 1.55],\n",
    "    [2019, 5, 414.66, 3.42] \n",
    "]\n",
    "pd.DataFrame(data, columns=[\"Year\", \"Month\", \"CO2ppmv\", \"ppmv inc.\"])"
   ]
  },
  {
   "cell_type": "code",
   "execution_count": 43,
   "metadata": {},
   "outputs": [
    {
     "name": "stdout",
     "output_type": "stream",
     "text": [
      "We can estimate that average growth for the last 5 years is 2.67 ppmv per year. \n",
      "Estimated CO₂ for May 2020 will be 417.33.\n",
      "Taking the highest measured concentration of CO₂ as 417.33 ppmv, equivalent to percentage content of 0.041733%."
     ]
    }
   ],
   "source": [
    "CO2avg_inc=round((3.76 + 1.97 + 1.55 + 3.42)/4,2)\n",
    "CO2ppmv=round(414.66+CO2avg_inc,2)\n",
    "CO2per=CO2ppmv/(100*100)\n",
    "CO2perYear=2.675\n",
    "\n",
    "print (\"We can estimate that average growth for the last 5 years is {} ppmv per year. \".format(CO2avg_inc) + \n",
    "       \"\\nEstimated CO₂ for May 2020 will be {}.\".format(CO2ppmv) )\n",
    "print (\"Taking the highest measured concentration of CO₂ as \" + str(CO2ppmv) + \" ppmv, \"\n",
    "        + \"equivalent to percentage content of \" + str(CO2per) + \"%.\", sep=\"\", end=\"\", flush=True)"
   ]
  },
  {
   "cell_type": "markdown",
   "metadata": {},
   "source": [
    "## Size Calculation\n",
    "\n",
    "Now, we can calculate the following:  \n",
    "W = 44.0087 g/mol (CO2 molecular mass)  \n",
    "A = 28.971 g/mole ([average molar mass of dry air](https://en.wikipedia.org/wiki/Molar_mass#Average_molar_mass_of_mixtures))"
   ]
  },
  {
   "cell_type": "code",
   "execution_count": 44,
   "metadata": {},
   "outputs": [
    {
     "name": "stdout",
     "output_type": "stream",
     "text": [
      "CO2% = 0.041733% (CO2 atmosphere volume)\n",
      "\u001b[1mCO2 m% = CO2% * (W/A) = 0.06339494933209072\n",
      "\u001b[0mMultiplying Earth’s atmosphere 5137000000000000.0 tonnes * 0.06339494933209072 m% CO2,\n",
      "as a result the \u001b[1m total weight of CO2 in the atmosphere is 3256.5985 Gt CO2.\n"
     ]
    }
   ],
   "source": [
    "avgDryAir=28.971\n",
    "co2m_pc=CO2per*(co2m/avgDryAir)\n",
    "co2inA=round((mAtm_ton*(co2m_pc/100)) / 1000**3, 4)\n",
    "print (\"CO2% = {CO2per}% (CO2 atmosphere volume)\".format(CO2per=CO2per))  \n",
    "print (bcolors.BOLD + \"CO2 m% = CO2% * (W/A) = {co2m_pc}\".format(co2m_pc=co2m_pc))\n",
    "\n",
    "print (bcolors.ENDC + \"Multiplying Earth’s atmosphere {} tonnes * {} m% CO2,\".format(mAtm_ton,co2m_pc) + \n",
    "       \"\\nas a result the \"+ bcolors.BOLD +\" total weight of CO2 in the atmosphere is \" + str(co2inA) + \" Gt CO2.\")"
   ]
  },
  {
   "cell_type": "code",
   "execution_count": 45,
   "metadata": {
    "scrolled": true
   },
   "outputs": [
    {
     "name": "stdout",
     "output_type": "stream",
     "text": [
      "Every 1 ppmv (part per million of volume) of the atmosphere weighs approximately 2.1297 Gt of Carbon.\n"
     ]
    }
   ],
   "source": [
    "C_Gt=(co2inA/CO2ppmv)*(C_in_co2_pc/100)\n",
    "print (\"Every 1 ppmv (part per million of volume) of the atmosphere weighs approximately \" + ro(C_Gt,4) + \\\n",
    "       \" Gt of Carbon.\")"
   ]
  },
  {
   "cell_type": "markdown",
   "metadata": {},
   "source": [
    "Scientists have warned that reaching `450 ppmv would mean a 50% chance of heating planet 2C` - which many call the `point of no return`."
   ]
  },
  {
   "cell_type": "code",
   "execution_count": 46,
   "metadata": {},
   "outputs": [
    {
     "name": "stdout",
     "output_type": "stream",
     "text": [
      "Having in mind above estimate of CO2 levels 417.33 ppmv we will reach in May 2020 Earth's coupling with factual detrimental events as Australian wildfires, storms, floods, hurricanes, droughts and especially thawing permafrost in Russia, we can calculate that we approximately have \u001b[1mless than 12.21 years within which we need to put our best effort to prevent human extinction.\u001b[0m\n"
     ]
    }
   ],
   "source": [
    "CO2_stableLevel=350\n",
    "CO2_endGame=450\n",
    "optimistic_time_left=(CO2_endGame-CO2ppmv)/CO2perYear\n",
    "print (\"Having in mind above estimate of CO2 levels {CO2ppmv} ppmv we will reach in \".format(CO2ppmv=CO2ppmv) +\n",
    "\"May 2020 Earth's coupling with factual detrimental events as Australian wildfires, storms, floods, \" +\n",
    "\"hurricanes, droughts and especially thawing permafrost in Russia, we can calculate that we approximately \" + \n",
    "\"have \"+ bcolors.BOLD +\"less than \" +  ro(optimistic_time_left) + \n",
    "\" years within which we need to put our best effort to prevent human extinction.\" + bcolors.ENDC)\n"
   ]
  },
  {
   "cell_type": "markdown",
   "metadata": {},
   "source": [
    "The pre-industrial CO2 concentration in the atmosphere, for instance in the year 1800 was around 280 ppmv bu 350 ppmv has been generally accepted as the maximum stable CO2 level. So, let’s now consider how much CO2 or Carbon we have added since the Industrial Revolution and how much carbon we need to sequester, to be safe."
   ]
  },
  {
   "cell_type": "code",
   "execution_count": 47,
   "metadata": {},
   "outputs": [
    {
     "name": "stdout",
     "output_type": "stream",
     "text": [
      "Human influence has added 137.33 ppmv which equates to 292.47 Gigatonnes of Carbon.\n",
      "To go back to the safe level of 350 ppmv, we would need to sequester \u001b[94m\u001b[1m143.39 GtC\n"
     ]
    }
   ],
   "source": [
    "CO2_stableLevel=350\n",
    "CO2_preIndustrial=280\n",
    "CO2_humans_added=CO2ppmv-CO2_preIndustrial\n",
    "C_human_added_mass=round(CO2_humans_added*C_Gt,2)\n",
    "CO2_humans_safe=CO2ppmv-CO2_stableLevel\n",
    "C_human_safe_mass=round(CO2_humans_safe*C_Gt, 2)\n",
    "print (\"Human influence has added \" + ro(CO2_humans_added) + \" ppmv which equates to \" + \\\n",
    "    str(C_human_added_mass) + \" Gigatonnes of Carbon.\")\n",
    "print (\"To go back to the safe level of \"+str(CO2_stableLevel) + \\\n",
    "    \" ppmv, we would need to sequester \" + bcolors.OKBLUE + bcolors.BOLD + str(C_human_safe_mass) + \" GtC\")   "
   ]
  },
  {
   "cell_type": "markdown",
   "metadata": {},
   "source": [
    "If we take the current [world population](https://en.wikipedia.org/wiki/World_population)  of 7.7 billion people as of April 2019, and we give each person to take care of hers equal portion of Carbon, each person would need to sequester around:    "
   ]
  },
  {
   "cell_type": "code",
   "execution_count": 48,
   "metadata": {},
   "outputs": [
    {
     "name": "stdout",
     "output_type": "stream",
     "text": [
      "18622kg of Carbon!\n"
     ]
    }
   ],
   "source": [
    "giga=1000**3\n",
    "ton2kg=1000\n",
    "world_population = 7.7 * giga\n",
    "C_per_human=round((C_human_safe_mass*giga*ton2kg)/world_population, 0)\n",
    "print ((str(int(C_per_human)) + \"kg of Carbon!\"))\n",
    "\n",
    "brick_vol_m3=0.00078657907\n",
    "brick_weight=round(brick_vol_m3 * 2266, 3)\n",
    "# print (brick_weight)\n",
    "bricks_per_human=round(C_per_human/brick_weight, 0)\n",
    "brick_per_m3=1/brick_vol_m3\n",
    "m3_per_human=bricks_per_human/brick_per_m3"
   ]
  },
  {
   "cell_type": "markdown",
   "metadata": {},
   "source": [
    "Common brick of size 8 by 3 by 2 inches, has a volume of 48 cubic Inch or 0.00078657907 cubic meters. If bricks were made out of **graphite** (pure Carbon) it would have a density 2266 kg/m³, then single brick would weigh 1.782 kilograms."
   ]
  },
  {
   "cell_type": "code",
   "execution_count": 49,
   "metadata": {},
   "outputs": [
    {
     "name": "stdout",
     "output_type": "stream",
     "text": [
      "Graphite brick would weight  1.782 kg, and then each human would need to sequester 10450 bricks. \n",
      "As in one cubic meter cube, we could fit 1271 bricks each human would need to sequester 8.2 cubic meters.\n"
     ]
    }
   ],
   "source": [
    "print (\"Graphite brick would weight \", brick_weight, \"kg, and then each human would need to sequester \" + \\\n",
    "    str(int(bricks_per_human)) + \" bricks. \")\n",
    "print (\"As in one cubic meter cube, we could fit \" + str(int(brick_per_m3)) + \\\n",
    "       \" bricks each human would need to sequester \" + \\\n",
    " str(round(m3_per_human,1)) + \" cubic meters.\")"
   ]
  },
  {
   "cell_type": "markdown",
   "metadata": {},
   "source": [
    "On the other hand, if we would keep the sequestered Carbon store in blocks of wood as Pinewood for instance, which is a 'medium' density softwood (400-420 kg/m³) with Carbon content inside of the wood ranging between 45%-50%."
   ]
  },
  {
   "cell_type": "code",
   "execution_count": 50,
   "metadata": {},
   "outputs": [
    {
     "name": "stdout",
     "output_type": "stream",
     "text": [
      "We would need 103.5 cubic meters. Or in other words, if we take the standard room (4m long x 4m wide x 2.5m high), we would need to fill 2.6 of such rooms with Pine lumber.\n"
     ]
    }
   ],
   "source": [
    "pine_wood_density=400\n",
    "pine_carbon_pc=45\n",
    "pine_carbon_per_m3=pine_wood_density*(pine_carbon_pc/100)\n",
    "total_pine_m3=C_per_human/pine_carbon_per_m3\n",
    "standard_room_volume=4*4*2.5\n",
    "rooms_total=total_pine_m3/standard_room_volume\n",
    "print (\"We would need \" + ro(total_pine_m3,1), \"cubic meters. Or in other words, if we take the standard room \" \n",
    "       + \"(4m long x 4m wide x 2.5m high), we would need to fill \"\n",
    "       + ro(rooms_total,1) + \" of such rooms with Pine lumber.\")"
   ]
  },
  {
   "cell_type": "markdown",
   "metadata": {},
   "source": [
    "[The Great Wall of China](https://en.wikipedia.org/wiki/Great_Wall_of_China) extends about 21,196 km with the wall around 7.8m high and 5m wide."
   ]
  },
  {
   "cell_type": "code",
   "execution_count": 51,
   "metadata": {},
   "outputs": [
    {
     "name": "stdout",
     "output_type": "stream",
     "text": [
      "It has a total volume of 826644000 cubic meters. \n",
      "\u001b[94mAs humanity needs to sequester  63292084868 m3 Carbon - equivalent would be \u001b[94m\u001b[1ma volume of 76.6 Great China Walls in bricks.\u001b[0m\n",
      "As Earth's circumference around the equator is 40075km, to turn enough atmospheric Carbon to get to stable 350 ppmv in graphite bricks - we could build a wall 3 story high (10 meters) and 5 meters wide, that would \u001b[94m\u001b[1mencircle the Earth around Equator 32 times.\n"
     ]
    }
   ],
   "source": [
    "great_w_height=7.8\n",
    "great_w_width=5\n",
    "great_w_length=21196*1000\n",
    "great_wall_vol=great_w_height*great_w_width*great_w_length\n",
    "print (\"It has a total volume of \" + str(int(great_wall_vol)), \"cubic meters. \")\n",
    "bricks_vol_humanity=world_population*m3_per_human\n",
    "print (bcolors.OKBLUE + \"As humanity needs to sequester \", str(int(round(bricks_vol_humanity,0))) + \\\n",
    "    \" m3 Carbon - equivalent would be \" + \\\n",
    "    bcolors.OKBLUE + bcolors.BOLD + \\\n",
    "    \"a volume of \" + str(round(bricks_vol_humanity/great_wall_vol,1)), \"Great China Walls in bricks.\" + bcolors.ENDC) \n",
    "earth_circumference_m=40075*1000\n",
    "volume_earth_wall=earth_circumference_m*10*5;\n",
    "print (\"As Earth's circumference around the equator is 40075km, to turn enough atmospheric Carbon to\" + \\\n",
    "    \" get to stable 350 ppmv in graphite bricks - we could build a wall 3 story high (10 meters)\" + \\\n",
    "    \" and 5 meters wide, that would \" + bcolors.OKBLUE + bcolors.BOLD + \"encircle the Earth around Equator \"  + \\\n",
    "       str(int(round(bricks_vol_humanity/volume_earth_wall,0))) + \" times.\"\n",
    "      )\n"
   ]
  },
  {
   "cell_type": "markdown",
   "metadata": {},
   "source": [
    "### Is there a way to do such a massive endeavour?\n",
    "Yes, there is a way, by simply helping it to build itself.\n",
    "\n",
    "*<sub>Our next articles provide more details.</sub>"
   ]
  },
  {
   "cell_type": "markdown",
   "metadata": {},
   "source": []
  }
 ],
 "metadata": {
  "kernelspec": {
   "display_name": "Python 3",
   "language": "python",
   "name": "python3"
  },
  "language_info": {
   "codemirror_mode": {
    "name": "ipython",
    "version": 3
   },
   "file_extension": ".py",
   "mimetype": "text/x-python",
   "name": "python",
   "nbconvert_exporter": "python",
   "pygments_lexer": "ipython3",
   "version": "3.8.1"
  }
 },
 "nbformat": 4,
 "nbformat_minor": 2
}
